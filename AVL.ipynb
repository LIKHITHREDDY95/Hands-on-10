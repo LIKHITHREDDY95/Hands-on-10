{
  "nbformat": 4,
  "nbformat_minor": 0,
  "metadata": {
    "colab": {
      "provenance": [],
      "authorship_tag": "ABX9TyN+eS8p34HVwIU7hoViYJ8W",
      "include_colab_link": true
    },
    "kernelspec": {
      "name": "python3",
      "display_name": "Python 3"
    },
    "language_info": {
      "name": "python"
    }
  },
  "cells": [
    {
      "cell_type": "markdown",
      "metadata": {
        "id": "view-in-github",
        "colab_type": "text"
      },
      "source": [
        "<a href=\"https://colab.research.google.com/github/LIKHITHREDDY95/Hands-on-10/blob/main/AVL.ipynb\" target=\"_parent\"><img src=\"https://colab.research.google.com/assets/colab-badge.svg\" alt=\"Open In Colab\"/></a>"
      ]
    },
    {
      "cell_type": "code",
      "execution_count": 2,
      "metadata": {
        "colab": {
          "base_uri": "https://localhost:8080/"
        },
        "id": "KhbBEgrqvYF7",
        "outputId": "8379cc83-733f-4ec7-a747-6d13c3ab748d"
      },
      "outputs": [
        {
          "output_type": "stream",
          "name": "stdout",
          "text": [
            "AVL Inorder Traversal: 4 5 10 15 20 25 \n"
          ]
        }
      ],
      "source": [
        "class AVLNode:\n",
        "    def __init__(self, key):\n",
        "        self.left = None\n",
        "        self.right = None\n",
        "        self.val = key\n",
        "        self.height = 1\n",
        "\n",
        "class AVLTree:\n",
        "    def _height(self, node):\n",
        "        if not node:\n",
        "            return 0\n",
        "        return node.height\n",
        "\n",
        "    def _get_balance(self, node):\n",
        "        if not node:\n",
        "            return 0\n",
        "        return self._height(node.left) - self._height(node.right)\n",
        "\n",
        "    def _rotate_right(self, y):\n",
        "        x = y.left\n",
        "        T2 = x.right\n",
        "\n",
        "        x.right = y\n",
        "        y.left = T2\n",
        "\n",
        "        y.height = 1 + max(self._height(y.left), self._height(y.right))\n",
        "        x.height = 1 + max(self._height(x.left), self._height(x.right))\n",
        "        return x\n",
        "\n",
        "    def _rotate_left(self, x):\n",
        "        y = x.right\n",
        "        T2 = y.left\n",
        "\n",
        "        y.left = x\n",
        "        x.right = T2\n",
        "\n",
        "        x.height = 1 + max(self._height(x.left), self._height(x.right))\n",
        "        y.height = 1 + max(self._height(y.left), self._height(y.right))\n",
        "        return y\n",
        "\n",
        "    def insert(self, root, key):\n",
        "        if not root:\n",
        "            return AVLNode(key)\n",
        "\n",
        "        if key < root.val:\n",
        "            root.left = self.insert(root.left, key)\n",
        "        else:\n",
        "            root.right = self.insert(root.right, key)\n",
        "\n",
        "        root.height = 1 + max(self._height(root.left), self._height(root.right))\n",
        "\n",
        "        balance = self._get_balance(root)\n",
        "\n",
        "        if balance > 1 and key < root.left.val:\n",
        "            return self._rotate_right(root)\n",
        "        if balance < -1 and key > root.right.val:\n",
        "            return self._rotate_left(root)\n",
        "        if balance > 1 and key > root.left.val:\n",
        "            root.left = self._rotate_left(root.left)\n",
        "            return self._rotate_right(root)\n",
        "        if balance < -1 and key < root.right.val:\n",
        "            root.right = self._rotate_right(root.right)\n",
        "            return self._rotate_left(root)\n",
        "\n",
        "        return root\n",
        "\n",
        "    def inorder(self, root):\n",
        "        if not root:\n",
        "            return\n",
        "        self.inorder(root.left)\n",
        "        print(root.val, end=\" \")\n",
        "        self.inorder(root.right)\n",
        "\n",
        "\n",
        "avl = AVLTree()\n",
        "root = None\n",
        "for value in [10, 20, 5, 4, 15, 25]:\n",
        "    root = avl.insert(root, value)\n",
        "\n",
        "print(\"AVL Inorder Traversal: \", end=\"\")\n",
        "avl.inorder(root)\n",
        "print()\n"
      ]
    }
  ]
}